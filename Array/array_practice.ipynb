{
 "cells": [
  {
   "cell_type": "code",
   "execution_count": 1,
   "metadata": {},
   "outputs": [
    {
     "name": "stdout",
     "output_type": "stream",
     "text": [
      "1\n",
      "2\n",
      "3\n",
      "4\n",
      "5\n"
     ]
    }
   ],
   "source": [
    "# 1. Create an array and traverse. \n",
    "from array import *\n",
    "\n",
    "my_array = array('i',[1,2,3,4,5])\n",
    "\n",
    "for i in my_array:\n",
    "    print(i)"
   ]
  },
  {
   "cell_type": "code",
   "execution_count": 6,
   "metadata": {},
   "outputs": [
    {
     "name": "stdout",
     "output_type": "stream",
     "text": [
      "first element:  1\n",
      "THird element:  4\n"
     ]
    }
   ],
   "source": [
    "# 2. Access individual elements through indexes\n",
    "\n",
    "print('first element: ', my_array[0])\n",
    "print('THird element: ', my_array[3])\n"
   ]
  },
  {
   "cell_type": "code",
   "execution_count": 10,
   "metadata": {},
   "outputs": [
    {
     "name": "stdout",
     "output_type": "stream",
     "text": [
      "array('i', [11, 1, 2, 3, 4, 5, 6, 10, 11, 12, 6])\n"
     ]
    }
   ],
   "source": [
    "# 3. Append any value to the array using append() method\n",
    "\n",
    "my_array.append(6)\n",
    "print(my_array)"
   ]
  },
  {
   "cell_type": "code",
   "execution_count": 11,
   "metadata": {},
   "outputs": [
    {
     "name": "stdout",
     "output_type": "stream",
     "text": [
      "array('i', [11, 11, 1, 2, 3, 4, 5, 6, 10, 11, 12, 6])\n"
     ]
    }
   ],
   "source": [
    "# 4. Insert value in an array using insert() method\n",
    "\n",
    "my_array.insert(0, 11)\n",
    "print(my_array)\n"
   ]
  },
  {
   "cell_type": "code",
   "execution_count": 13,
   "metadata": {},
   "outputs": [
    {
     "name": "stdout",
     "output_type": "stream",
     "text": [
      "array('i', [1, 2, 3, 4, 5, 6, 10, 11, 12])\n"
     ]
    }
   ],
   "source": [
    "# 5. Extend python array using extend() method\n",
    "\n",
    "\n",
    "my_array = array('i',[1,2,3,4,5,6])\n",
    "my_array1 = array('i', [10,11,12])\n",
    "my_array.extend(my_array1)\n",
    "print(my_array)\n",
    "\n",
    "\n"
   ]
  },
  {
   "cell_type": "code",
   "execution_count": 15,
   "metadata": {},
   "outputs": [
    {
     "name": "stdout",
     "output_type": "stream",
     "text": [
      "array('i', [1, 2, 3, 4, 5, 6, 10, 11, 12, 20, 21, 22, 20, 21, 22])\n"
     ]
    }
   ],
   "source": [
    "\n",
    "# 6. Add items from list into array using fromlist() method\n",
    "\n",
    "tempList = [20,21,22]\n",
    "my_array.fromlist(tempList)\n",
    "print(my_array)\n",
    "\n"
   ]
  },
  {
   "cell_type": "code",
   "execution_count": 16,
   "metadata": {},
   "outputs": [
    {
     "name": "stdout",
     "output_type": "stream",
     "text": [
      "array('i', [1, 2, 3, 4, 5, 6, 10, 12, 20, 21, 22, 20, 21, 22])\n"
     ]
    }
   ],
   "source": [
    "# 7. Remove any array element using remove() method\n",
    "\n",
    "my_array.remove(11)\n",
    "print(my_array)\n"
   ]
  },
  {
   "cell_type": "code",
   "execution_count": 20,
   "metadata": {},
   "outputs": [
    {
     "name": "stdout",
     "output_type": "stream",
     "text": [
      "array('i', [1, 2, 3, 4, 5, 6, 10, 12, 20, 21, 22, 20, 21])\n"
     ]
    }
   ],
   "source": [
    "# 8. Remove last array element using pop() method\n",
    "#remove last element\n",
    "\n",
    "my_array.pop()\n",
    "print(my_array)\n",
    "\n",
    "\n"
   ]
  },
  {
   "cell_type": "code",
   "execution_count": 23,
   "metadata": {},
   "outputs": [
    {
     "name": "stdout",
     "output_type": "stream",
     "text": [
      "9\n",
      "array('i', [1, 2, 3, 4, 5, 6, 10, 12, 20, 21, 22, 20, 21])\n"
     ]
    }
   ],
   "source": [
    "# 9. Fetch any element through its index using index() method\n",
    "#find the index of value in a list\n",
    "print(my_array.index(21))\n",
    "\n"
   ]
  },
  {
   "cell_type": "code",
   "execution_count": 24,
   "metadata": {},
   "outputs": [
    {
     "name": "stdout",
     "output_type": "stream",
     "text": [
      "array('i', [21, 20, 22, 21, 20, 12, 10, 6, 5, 4, 3, 2, 1])\n"
     ]
    }
   ],
   "source": [
    "# 10. Reverse a python array using reverse() method\n",
    "my_array.reverse()\n",
    "print(my_array)\n",
    "\n"
   ]
  },
  {
   "cell_type": "code",
   "execution_count": 26,
   "metadata": {},
   "outputs": [
    {
     "name": "stdout",
     "output_type": "stream",
     "text": [
      "(2454176560304, 13)\n"
     ]
    }
   ],
   "source": [
    "# 11. Get array buffer information through buffer_info() method\n",
    "\n",
    "\n",
    "print(my_array.buffer_info())\n"
   ]
  },
  {
   "cell_type": "code",
   "execution_count": 30,
   "metadata": {},
   "outputs": [
    {
     "name": "stdout",
     "output_type": "stream",
     "text": [
      "2\n"
     ]
    }
   ],
   "source": [
    "# 12. Check for number of occurrences of an element using count() method\n",
    "my_array.append(11)\n",
    "print(my_array.count(11))\n",
    "\n"
   ]
  },
  {
   "cell_type": "code",
   "execution_count": 33,
   "metadata": {},
   "outputs": [
    {
     "name": "stdout",
     "output_type": "stream",
     "text": [
      "b'\\x15\\x00\\x00\\x00\\x14\\x00\\x00\\x00\\x16\\x00\\x00\\x00\\x15\\x00\\x00\\x00\\x14\\x00\\x00\\x00\\x0c\\x00\\x00\\x00\\n\\x00\\x00\\x00\\x06\\x00\\x00\\x00\\x05\\x00\\x00\\x00\\x04\\x00\\x00\\x00\\x03\\x00\\x00\\x00\\x02\\x00\\x00\\x00\\x01\\x00\\x00\\x00\\x0b\\x00\\x00\\x00\\x0b\\x00\\x00\\x00'\n",
      "array('i', [21, 20, 22, 21, 20, 12, 10, 6, 5, 4, 3, 2, 1, 11, 11])\n"
     ]
    }
   ],
   "source": [
    "# 13. Convert array to string using tostring() method\n",
    "\n",
    "strTemp = my_array.tobytes()\n",
    "print(strTemp)\n",
    "\n",
    "ints = array('i')\n",
    "ints.frombytes(strTemp)\n",
    "print(ints)\n"
   ]
  },
  {
   "cell_type": "code",
   "execution_count": 34,
   "metadata": {},
   "outputs": [
    {
     "name": "stdout",
     "output_type": "stream",
     "text": [
      "[21, 20, 22, 21, 20, 12, 10, 6, 5, 4, 3, 2, 1, 11, 11]\n"
     ]
    }
   ],
   "source": [
    "# 14. Convert array to a python list with same elements using tolist() method\n",
    "\n",
    "print(my_array.tolist())\n"
   ]
  },
  {
   "cell_type": "code",
   "execution_count": 39,
   "metadata": {},
   "outputs": [
    {
     "name": "stdout",
     "output_type": "stream",
     "text": [
      "Hello World\n"
     ]
    }
   ],
   "source": [
    "import array\n",
    "\n",
    "# Create the initial array of characters\n",
    "char_array = array.array('u', 'Hello')\n",
    "\n",
    "# Convert string to characters and extend the array\n",
    "char_array.fromunicode(' World')\n",
    "\n",
    "# Convert char array back to a string for display\n",
    "result = char_array.tounicode()\n",
    "\n",
    "print(result)\n"
   ]
  },
  {
   "cell_type": "code",
   "execution_count": 43,
   "metadata": {},
   "outputs": [
    {
     "data": {
      "text/plain": [
       "array('i', [21, 20, 22, 21, 20, 12, 10, 6, 5, 4, 3, 2, 1, 11, 11])"
      ]
     },
     "execution_count": 43,
     "metadata": {},
     "output_type": "execute_result"
    }
   ],
   "source": [
    "# 16. Slice Elements from an array\n",
    "\n",
    "my_array[1:4]\n",
    "my_array[2:]\n",
    "my_array[:4]\n",
    "my_array[:]\n",
    "\n"
   ]
  },
  {
   "cell_type": "code",
   "execution_count": 44,
   "metadata": {},
   "outputs": [
    {
     "name": "stdout",
     "output_type": "stream",
     "text": [
      "[[11 15 10  6]\n",
      " [10 14 11  5]\n",
      " [12 17 12  8]\n",
      " [15 18 14  9]]\n"
     ]
    }
   ],
   "source": [
    "import numpy as np\n",
    "\n",
    "twoDarray = np.array([[11, 15, 10, 6], [10, 14, 11, 5], [12, 17, 12, 8], [15, 18, 14, 9] ])\n",
    "\n",
    "print(twoDarray)"
   ]
  },
  {
   "cell_type": "code",
   "execution_count": 46,
   "metadata": {},
   "outputs": [
    {
     "name": "stdout",
     "output_type": "stream",
     "text": [
      "[[11 15 10  6]\n",
      " [10 14 11  5]\n",
      " [12 17 12  8]\n",
      " [15 18 14  9]]\n",
      "[[ 1 11 15 10  6]\n",
      " [ 2 10 14 11  5]\n",
      " [ 3 12 17 12  8]\n",
      " [ 4 15 18 14  9]]\n"
     ]
    }
   ],
   "source": [
    "#insertion into two dimesnional array\n",
    "# types of insertion\n",
    "# 1)additional column\n",
    "# 2)additional row\n",
    "#column insert = 1\n",
    "newTwoDArray = np.insert(twoDarray, 0, [1,2,3,4], axis = 1)\n",
    "\n",
    "print(twoDarray)\n",
    "print(newTwoDArray)\n",
    "\n"
   ]
  },
  {
   "cell_type": "code",
   "execution_count": 47,
   "metadata": {},
   "outputs": [
    {
     "name": "stdout",
     "output_type": "stream",
     "text": [
      "[[11 15 10  6]\n",
      " [10 14 11  5]\n",
      " [12 17 12  8]\n",
      " [15 18 14  9]]\n",
      "[[ 1  2  3  4]\n",
      " [11 15 10  6]\n",
      " [10 14 11  5]\n",
      " [12 17 12  8]\n",
      " [15 18 14  9]]\n"
     ]
    }
   ],
   "source": [
    "#row insert 0\n",
    "newTwoDArray = np.insert(twoDarray, 0, [1,2,3,4], axis = 0)\n",
    "\n",
    "print(twoDarray)\n",
    "print(newTwoDArray)"
   ]
  },
  {
   "cell_type": "code",
   "execution_count": 48,
   "metadata": {},
   "outputs": [
    {
     "name": "stdout",
     "output_type": "stream",
     "text": [
      "[[11 15 10  6]\n",
      " [10 14 11  5]\n",
      " [12 17 12  8]\n",
      " [15 18 14  9]]\n",
      "[[11 15 10  6]\n",
      " [10 14 11  5]\n",
      " [ 1  2  3  4]\n",
      " [12 17 12  8]\n",
      " [15 18 14  9]]\n"
     ]
    }
   ],
   "source": [
    "#row insert at 2nd index\n",
    "newTwoDArray = np.insert(twoDarray, 2, [1,2,3,4], axis = 0)\n",
    "\n",
    "print(twoDarray)\n",
    "print(newTwoDArray)"
   ]
  },
  {
   "cell_type": "code",
   "execution_count": 49,
   "metadata": {},
   "outputs": [
    {
     "name": "stdout",
     "output_type": "stream",
     "text": [
      "[[11 15 10  6]\n",
      " [10 14 11  5]\n",
      " [12 17 12  8]\n",
      " [15 18 14  9]]\n",
      "[[11 15 10  6]\n",
      " [10 14 11  5]\n",
      " [12 17 12  8]\n",
      " [15 18 14  9]\n",
      " [ 1  2  3  4]]\n"
     ]
    }
   ],
   "source": [
    "#append method at end of row\n",
    "newTwoDArray = np.append(twoDarray, [[1,2,3,4]], axis = 0 )\n",
    "\n",
    "print(twoDarray)\n",
    "print(newTwoDArray)"
   ]
  },
  {
   "cell_type": "code",
   "execution_count": 4,
   "metadata": {},
   "outputs": [
    {
     "name": "stdout",
     "output_type": "stream",
     "text": [
      "[[11 15 10  6]\n",
      " [10 14 11  5]\n",
      " [12 17 12  8]\n",
      " [15 18 14  9]]\n",
      "11\n",
      "8\n"
     ]
    }
   ],
   "source": [
    "#accessing the elements in two dimesional array\n",
    "import numpy as np\n",
    "\n",
    "twoDarray = np.array([[11, 15, 10, 6], [10, 14, 11, 5], [12, 17, 12, 8], [15, 18, 14, 9] ])\n",
    "\n",
    "print(twoDarray)\n",
    "\n",
    "def accessElements(array, rowIndex, colIndex):\n",
    "    if rowIndex >= len(array) and colIndex >= len(array[0]):\n",
    "        print('Incorrect index')\n",
    "    else:\n",
    "        print(array[rowIndex][colIndex])\n",
    "\n",
    "\n",
    "accessElements(twoDarray, 1, 2)        \n",
    "accessElements(twoDarray, 2, 3)        \n",
    "\n"
   ]
  },
  {
   "cell_type": "code",
   "execution_count": 9,
   "metadata": {},
   "outputs": [
    {
     "name": "stdout",
     "output_type": "stream",
     "text": [
      "[[11 15 10  6]\n",
      " [10 14 11  5]\n",
      " [12 17 12  8]\n",
      " [15 18 14  9]]\n",
      "11\n",
      "15\n",
      "10\n",
      "6\n",
      "10\n",
      "14\n",
      "11\n",
      "5\n",
      "12\n",
      "17\n",
      "12\n",
      "8\n",
      "15\n",
      "18\n",
      "14\n",
      "9\n"
     ]
    }
   ],
   "source": [
    "#traversing two dimension array\n",
    "import numpy as np\n",
    "\n",
    "twoDarray = np.array([[11, 15, 10, 6], [10, 14, 11, 5], [12, 17, 12, 8], [15, 18, 14, 9] ])\n",
    "print(twoDarray)\n",
    "def traverseTDArray(array):\n",
    "    for i in range(len(array)):\n",
    "        for j in range(len(array[0])):\n",
    "            print(array[i][j])\n",
    "        \n",
    "\n",
    "traverseTDArray(twoDarray)"
   ]
  },
  {
   "cell_type": "code",
   "execution_count": 3,
   "metadata": {},
   "outputs": [
    {
     "name": "stdout",
     "output_type": "stream",
     "text": [
      "[[11 15 10  6]\n",
      " [10 14 11  5]\n",
      " [12 17 12  8]\n",
      " [15 18 14  9]]\n",
      "The value is located at index: 1 1\n",
      "The element is not found\n"
     ]
    }
   ],
   "source": [
    "#searching two dimenional array\n",
    "#Linear search\n",
    "import numpy as np\n",
    "\n",
    "twoDarray = np.array([[11, 15, 10, 6], [10, 14, 11, 5], [12, 17, 12, 8], [15, 18, 14, 9] ])\n",
    "print(twoDarray)\n",
    "\n",
    "\n",
    "def searchTDArray(array,value):\n",
    "    for i in range(len(array)):\n",
    "        for j in range(len(array[0])):\n",
    "            if array[i][j] == value:\n",
    "                return 'The value is located at index: '+str(i)+\" \"+str(j)\n",
    "    return 'The element is not found'\n",
    "\n",
    "print(searchTDArray(twoDarray, 14))\n",
    "# print(searchTDArray(twoDarray, 144))"
   ]
  },
  {
   "cell_type": "code",
   "execution_count": 4,
   "metadata": {},
   "outputs": [
    {
     "name": "stdout",
     "output_type": "stream",
     "text": [
      "[[11 15 10  6]\n",
      " [10 14 11  5]\n",
      " [12 17 12  8]\n",
      " [15 18 14  9]]\n",
      "[[10 14 11  5]\n",
      " [12 17 12  8]\n",
      " [15 18 14  9]]\n",
      "[[15 10  6]\n",
      " [14 11  5]\n",
      " [17 12  8]\n",
      " [18 14  9]]\n",
      "[[11 10  6]\n",
      " [10 11  5]\n",
      " [12 12  8]\n",
      " [15 14  9]]\n"
     ]
    }
   ],
   "source": [
    "# deletion in 2D Array\n",
    "import numpy as np\n",
    "\n",
    "twoDarray = np.array([[11, 15, 10, 6], [10, 14, 11, 5], [12, 17, 12, 8], [15, 18, 14, 9] ])\n",
    "print(twoDarray)\n",
    "\n",
    "#delete the row of the array\n",
    "deleteArray = np.delete(twoDarray, 0, axis = 0)\n",
    "print(deleteArray)\n",
    "#delete the column of the array\n",
    "deleteArray = np.delete(twoDarray, 0, axis = 1)\n",
    "print(deleteArray)\n",
    "#delete the column of the array\n",
    "deleteArray = np.delete(twoDarray, 1, axis = 1)\n",
    "print(deleteArray)\n",
    "#time complexity o(mn)\n",
    "#space complexity o(mn)\n"
   ]
  },
  {
   "cell_type": "code",
   "execution_count": null,
   "metadata": {},
   "outputs": [],
   "source": []
  }
 ],
 "metadata": {
  "kernelspec": {
   "display_name": "Python 3",
   "language": "python",
   "name": "python3"
  },
  "language_info": {
   "codemirror_mode": {
    "name": "ipython",
    "version": 3
   },
   "file_extension": ".py",
   "mimetype": "text/x-python",
   "name": "python",
   "nbconvert_exporter": "python",
   "pygments_lexer": "ipython3",
   "version": "3.11.9"
  }
 },
 "nbformat": 4,
 "nbformat_minor": 2
}
